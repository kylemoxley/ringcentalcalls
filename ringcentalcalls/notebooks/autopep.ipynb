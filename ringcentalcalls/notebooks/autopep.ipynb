{
 "cells": [
  {
   "cell_type": "code",
   "execution_count": null,
   "id": "bfbd9b5d-f311-4cb0-b055-b391e6f76b4b",
   "metadata": {},
   "outputs": [],
   "source": [
    "import os\n",
    "path_parent = os.path.dirname(os.getcwd())\n",
    "os.chdir(path_parent)\n",
    "print(\"Current Directory: {} \".format(os.getcwd()))"
   ]
  },
  {
   "cell_type": "code",
   "execution_count": null,
   "id": "9a629c9e-1204-4375-9264-7fb2469f0c9a",
   "metadata": {},
   "outputs": [],
   "source": [
    "import glob\n",
    "import subprocess\n",
    "import re\n",
    "files = glob.glob(\"ringcentalcalls/*\")\n",
    "for f in glob.glob(\"pipelines/*\"):\n",
    "    files.append(f)\n",
    "files"
   ]
  },
  {
   "cell_type": "code",
   "execution_count": null,
   "id": "1061f18b-fd43-4b63-95e6-4483ca3a617b",
   "metadata": {},
   "outputs": [],
   "source": [
    "for f in files:\n",
    "    f = re.sub(r\"\\\\\", \"/\", f)\n",
    "    print(f)\n",
    "    cmds = [\"autopep8 --max-line-length 140 --in-place --aggressive --aggressive --select=E,W \", f]\n",
    "    subprocess.call(\" \".join(cmds), shell=True)"
   ]
  },
  {
   "cell_type": "code",
   "execution_count": null,
   "id": "5ec9a185-ddb7-43e9-9d2f-6b7be7fe869d",
   "metadata": {},
   "outputs": [],
   "source": [
    "folder_name = 'ringcentalcalls'\n",
    "cmds = [\"flake8  --ignore=E712,W504 --max-line-length=140 \", folder_name ]\n",
    "subprocess.call(\" \".join(cmds), shell=True)"
   ]
  },
  {
   "cell_type": "code",
   "execution_count": null,
   "id": "c4783388-f670-45d5-8e8d-57eae8e1acdb",
   "metadata": {},
   "outputs": [],
   "source": [
    "for f in files:\n",
    "    f = re.sub(r\"\\\\\", \"/\", f)\n",
    "    print(f)\n",
    "    cmds = [\"radon mi \", f]\n",
    "    subprocess.call(\" \".join(cmds), shell=True)"
   ]
  }
 ],
 "metadata": {
  "kernelspec": {
   "display_name": "Python 3",
   "language": "python",
   "name": "python3"
  },
  "language_info": {
   "codemirror_mode": {
    "name": "ipython",
    "version": 3
   },
   "file_extension": ".py",
   "mimetype": "text/x-python",
   "name": "python",
   "nbconvert_exporter": "python",
   "pygments_lexer": "ipython3",
   "version": "3.8.10 (tags/v3.8.10:3d8993a, May  3 2021, 11:48:03) [MSC v.1928 64 bit (AMD64)]"
  },
  "vscode": {
   "interpreter": {
    "hash": "6032a8983cd768f2ab5e1cb991074b46b9bcf062360ba71b1c9abb7c2eb08d4a"
   }
  }
 },
 "nbformat": 4,
 "nbformat_minor": 5
}
